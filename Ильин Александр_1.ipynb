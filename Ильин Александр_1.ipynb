from math import pi, exp
from scipy.integrate import quad

def std_norm(x):
    return (1/((2*pi)**0.5)) * exp(-x**2/2)

print('Интеграл от -sigma до sigma:',quad(std_norm,-1, 1)[0])
